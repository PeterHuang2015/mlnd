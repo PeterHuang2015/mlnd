{
 "cells": [
  {
   "cell_type": "markdown",
   "metadata": {
    "collapsed": true
   },
   "source": [
    "# Image Classification\n",
    "In this project, you'll classify images from the [CIFAR-10 dataset](https://www.cs.toronto.edu/~kriz/cifar.html).  The dataset consists of airplanes, dogs, cats, and other objects. You'll preprocess the images, then train a convolutional neural network on all the samples. The images need to be normalized and the labels need to be one-hot encoded.  You'll get to apply what you learned and build a convolutional, max pooling, dropout, and fully connected layers.  At the end, you'll get to see your neural network's predictions on the sample images.\n",
    "## Get the Data\n",
    "Run the following cell to download the [CIFAR-10 dataset for python](https://www.cs.toronto.edu/~kriz/cifar-10-python.tar.gz)."
   ]
  },
  {
   "cell_type": "code",
   "execution_count": 9,
   "metadata": {},
   "outputs": [
    {
     "name": "stdout",
     "output_type": "stream",
     "text": [
      "All files found!\n"
     ]
    }
   ],
   "source": [
    "\"\"\"\n",
    "DON'T MODIFY ANYTHING IN THIS CELL THAT IS BELOW THIS LINE\n",
    "\"\"\"\n",
    "from urllib.request import urlretrieve\n",
    "from os.path import isfile, isdir\n",
    "from tqdm import tqdm\n",
    "import problem_unittests as tests\n",
    "import tarfile\n",
    "\n",
    "cifar10_dataset_folder_path = 'cifar-10-batches-py'\n",
    "\n",
    "class DLProgress(tqdm):\n",
    "    last_block = 0\n",
    "\n",
    "    def hook(self, block_num=1, block_size=1, total_size=None):\n",
    "        self.total = total_size\n",
    "        self.update((block_num - self.last_block) * block_size)\n",
    "        self.last_block = block_num\n",
    "\n",
    "if not isfile('cifar-10-python.tar.gz'):\n",
    "    with DLProgress(unit='B', unit_scale=True, miniters=1, desc='CIFAR-10 Dataset') as pbar:\n",
    "        urlretrieve(\n",
    "            'https://www.cs.toronto.edu/~kriz/cifar-10-python.tar.gz',\n",
    "            'cifar-10-python.tar.gz',\n",
    "            pbar.hook)\n",
    "\n",
    "if not isdir(cifar10_dataset_folder_path):\n",
    "    with tarfile.open('cifar-10-python.tar.gz') as tar:\n",
    "        tar.extractall()\n",
    "        tar.close()\n",
    "\n",
    "\n",
    "tests.test_folder_path(cifar10_dataset_folder_path)"
   ]
  },
  {
   "cell_type": "markdown",
   "metadata": {},
   "source": [
    "## Explore the Data\n",
    "The dataset is broken into batches to prevent your machine from running out of memory.  The CIFAR-10 dataset consists of 5 batches, named `data_batch_1`, `data_batch_2`, etc.. Each batch contains the labels and images that are one of the following:\n",
    "* airplane\n",
    "* automobile\n",
    "* bird\n",
    "* cat\n",
    "* deer\n",
    "* dog\n",
    "* frog\n",
    "* horse\n",
    "* ship\n",
    "* truck\n",
    "\n",
    "Understanding a dataset is part of making predictions on the data.  Play around with the code cell below by changing the `batch_id` and `sample_id`. The `batch_id` is the id for a batch (1-5). The `sample_id` is the id for a image and label pair in the batch.\n",
    "\n",
    "Ask yourself \"What are all possible labels?\", \"What is the range of values for the image data?\", \"Are the labels in order or random?\".  Answers to questions like these will help you preprocess the data and end up with better predictions."
   ]
  },
  {
   "cell_type": "code",
   "execution_count": 10,
   "metadata": {},
   "outputs": [
    {
     "name": "stdout",
     "output_type": "stream",
     "text": [
      "\n",
      "Stats of batch 4:\n",
      "Samples: 10000\n",
      "Label Counts: {0: 1003, 1: 963, 2: 1041, 3: 976, 4: 1004, 5: 1021, 6: 1004, 7: 981, 8: 1024, 9: 983}\n",
      "First 20 Labels: [0, 6, 0, 2, 7, 2, 1, 2, 4, 1, 5, 6, 6, 3, 1, 3, 5, 5, 8, 1]\n",
      "\n",
      "Example of Image 5:\n",
      "Image - Min Value: 13 Max Value: 169\n",
      "Image - Shape: (32, 32, 3)\n",
      "Label - Label Id: 2 Name: bird\n"
     ]
    },
    {
     "data": {
      "image/png": "[encoded data removed]",
      "text/plain": [
       "<matplotlib.figure.Figure at 0x7fbbd2345b38>"
      ]
     },
     "metadata": {
      "image/png": {
       "height": 250,
       "width": 253
      }
     },
     "output_type": "display_data"
    }
   ],
   "source": [
    "%matplotlib inline\n",
    "%config InlineBackend.figure_format = 'retina'\n",
    "\n",
    "import helper\n",
    "import numpy as np\n",
    "\n",
    "# Explore the dataset\n",
    "batch_id = 4\n",
    "sample_id = 5\n",
    "helper.display_stats(cifar10_dataset_folder_path, batch_id, sample_id)"
   ]
  },
  {
   "cell_type": "markdown",
   "metadata": {},
   "source": [
    "## Implement Preprocess Functions\n",
    "### Normalize\n",
    "In the cell below, implement the `normalize` function to take in image data, `x`, and return it as a normalized Numpy array. The values should be in the range of 0 to 1, inclusive.  The return object should be the same shape as `x`."
   ]
  },
  {
   "cell_type": "code",
   "execution_count": 4,
   "metadata": {},
   "outputs": [
    {
     "name": "stdout",
     "output_type": "stream",
     "text": [
      "Tests Passed\n"
     ]
    }
   ],
   "source": [
    "def normalize(x):\n",
    "    \"\"\"\n",
    "    Normalize a list of sample image data in the range of 0 to 1\n",
    "    : x: List of image data.  The image shape is (32, 32, 3)\n",
    "    : return: Numpy array of normalize data\n",
    "    \"\"\"\n",
    "    return x/255.\n",
    "\n",
    "\n",
    "\"\"\"\n",
    "DON'T MODIFY ANYTHING IN THIS CELL THAT IS BELOW THIS LINE\n",
    "\"\"\"\n",
    "tests.test_normalize(normalize)"
   ]
  },
  {
   "cell_type": "markdown",
   "metadata": {},
   "source": [
    "### One-hot encode\n",
    "Just like the previous code cell, you'll be implementing a function for preprocessing.  This time, you'll implement the `one_hot_encode` function. The input, `x`, are a list of labels.  Implement the function to return the list of labels as One-Hot encoded Numpy array.  The possible values for labels are 0 to 9. The one-hot encoding function should return the same encoding for each value between each call to `one_hot_encode`.  Make sure to save the map of encodings outside the function.\n",
    "\n",
    "**Hint:**\n",
    "\n",
    "Look into LabelBinarizer in the preprocessing module of sklearn."
   ]
  },
  {
   "cell_type": "code",
   "execution_count": 19,
   "metadata": {},
   "outputs": [
    {
     "name": "stdout",
     "output_type": "stream",
     "text": [
      "Tests Passed\n"
     ]
    }
   ],
   "source": [
    "# or tf.one_hot\n",
    "def one_hot_encode(x):\n",
    "    \"\"\"\n",
    "    One hot encode a list of sample labels. Return a one-hot encoded vector for each label.\n",
    "    : x: List of sample Labels\n",
    "    : return: Numpy array of one-hot encoded labels\n",
    "    \"\"\"\n",
    "    minimum, maximum = np.min(x), np.max(x)\n",
    "#     print(minimum, maximum)\n",
    "    oh = np.zeros([len(x), 10])\n",
    "    for i in range(len(x)):\n",
    "        oh[i,x[i]] = 1\n",
    "    return oh\n",
    "\n",
    "\n",
    "\"\"\"\n",
    "DON'T MODIFY ANYTHING IN THIS CELL THAT IS BELOW THIS LINE\n",
    "\"\"\"\n",
    "tests.test_one_hot_encode(one_hot_encode)"
   ]
  },
  {
   "cell_type": "markdown",
   "metadata": {},
   "source": [
    "### Randomize Data\n",
    "As you saw from exploring the data above, the order of the samples are randomized.  It doesn't hurt to randomize it again, but you don't need to for this dataset."
   ]
  },
  {
   "cell_type": "markdown",
   "metadata": {},
   "source": [
    "## Preprocess all the data and save it\n",
    "Running the code cell below will preprocess all the CIFAR-10 data and save it to file. The code below also uses 10% of the training data for validation."
   ]
  },
  {
   "cell_type": "code",
   "execution_count": 18,
   "metadata": {
    "collapsed": true
   },
   "outputs": [],
   "source": [
    "\"\"\"\n",
    "DON'T MODIFY ANYTHING IN THIS CELL\n",
    "\"\"\"\n",
    "# Preprocess Training, Validation, and Testing Data\n",
    "helper.preprocess_and_save_data(cifar10_dataset_folder_path, normalize, one_hot_encode)"
   ]
  },
  {
   "cell_type": "markdown",
   "metadata": {},
   "source": [
    "# Check Point\n",
    "This is your first checkpoint.  If you ever decide to come back to this notebook or have to restart the notebook, you can start from here.  The preprocessed data has been saved to disk."
   ]
  },
  {
   "cell_type": "code",
   "execution_count": 1,
   "metadata": {},
   "outputs": [
    {
     "name": "stderr",
     "output_type": "stream",
     "text": [
      "/home/cgv841/anaconda3/lib/python3.6/importlib/_bootstrap.py:205: RuntimeWarning: compiletime version 3.5 of module 'tensorflow.python.framework.fast_tensor_util' does not match runtime version 3.6\n",
      "  return f(*args, **kwds)\n"
     ]
    }
   ],
   "source": [
    "\"\"\"\n",
    "DON'T MODIFY ANYTHING IN THIBS CELL\n",
    "\"\"\"\n",
    "import pickle\n",
    "import problem_unittests as tests\n",
    "import helper\n",
    "\n",
    "# Load the Preprocessed Validation data\n",
    "valid_features, valid_labels = pickle.load(open('preprocess_validation.p', mode='rb'))"
   ]
  },
  {
   "cell_type": "markdown",
   "metadata": {},
   "source": [
    "## Build the network\n",
    "For the neural network, you'll build each layer into a function.  Most of the code you've seen has been outside of functions. To test your code more thoroughly, we require that you put each layer in a function.  This allows us to give you better feedback and test for simple mistakes using our unittests before you submit your project.\n",
    "\n",
    ">**Note:** If you're finding it hard to dedicate enough time for this course each week, we've provided a small shortcut to this part of the project. In the next couple of problems, you'll have the option to use classes from the [TensorFlow Layers](https://www.tensorflow.org/api_docs/python/tf/layers) or [TensorFlow Layers (contrib)](https://www.tensorflow.org/api_guides/python/contrib.layers) packages to build each layer, except the layers you build in the \"Convolutional and Max Pooling Layer\" section.  TF Layers is similar to Keras's and TFLearn's abstraction to layers, so it's easy to pickup.\n",
    "\n",
    ">However, if you would like to get the most out of this course, try to solve all the problems _without_ using anything from the TF Layers packages. You **can** still use classes from other packages that happen to have the same name as ones you find in TF Layers! For example, instead of using the TF Layers version of the `conv2d` class, [tf.layers.conv2d](https://www.tensorflow.org/api_docs/python/tf/layers/conv2d), you would want to use the TF Neural Network version of `conv2d`, [tf.nn.conv2d](https://www.tensorflow.org/api_docs/python/tf/nn/conv2d). \n",
    "\n",
    "Let's begin!\n",
    "\n",
    "### Input\n",
    "The neural network needs to read the image data, one-hot encoded labels, and dropout keep probability. Implement the following functions\n",
    "* Implement `neural_net_image_input`\n",
    " * Return a [TF Placeholder](https://www.tensorflow.org/api_docs/python/tf/placeholder)\n",
    " * Set the shape using `image_shape` with batch size set to `None`.\n",
    " * Name the TensorFlow placeholder \"x\" using the TensorFlow `name` parameter in the [TF Placeholder](https://www.tensorflow.org/api_docs/python/tf/placeholder).\n",
    "* Implement `neural_net_label_input`\n",
    " * Return a [TF Placeholder](https://www.tensorflow.org/api_docs/python/tf/placeholder)\n",
    " * Set the shape using `n_classes` with batch size set to `None`.\n",
    " * Name the TensorFlow placeholder \"y\" using the TensorFlow `name` parameter in the [TF Placeholder](https://www.tensorflow.org/api_docs/python/tf/placeholder).\n",
    "* Implement `neural_net_keep_prob_input`\n",
    " * Return a [TF Placeholder](https://www.tensorflow.org/api_docs/python/tf/placeholder) for dropout keep probability.\n",
    " * Name the TensorFlow placeholder \"keep_prob\" using the TensorFlow `name` parameter in the [TF Placeholder](https://www.tensorflow.org/api_docs/python/tf/placeholder).\n",
    "\n",
    "These names will be used at the end of the project to load your saved model.\n",
    "\n",
    "Note: `None` for shapes in TensorFlow allow for a dynamic size."
   ]
  },
  {
   "cell_type": "code",
   "execution_count": 2,
   "metadata": {},
   "outputs": [
    {
     "name": "stdout",
     "output_type": "stream",
     "text": [
      "Image Input Tests Passed.\n",
      "Label Input Tests Passed.\n",
      "Keep Prob Tests Passed.\n"
     ]
    }
   ],
   "source": [
    "import tensorflow as tf\n",
    "import numpy as np\n",
    "\n",
    "def neural_net_image_input(image_shape):\n",
    "    \"\"\"\n",
    "    Return a Tensor for a batch of image input\n",
    "    : image_shape: Shape of the images\n",
    "    : return: Tensor for image input.\n",
    "    \"\"\"\n",
    "    return tf.placeholder(shape=[None] + list(image_shape), dtype=tf.float32, name='x')\n",
    "\n",
    "\n",
    "def neural_net_label_input(n_classes):\n",
    "    \"\"\"\n",
    "    Return a Tensor for a batch of label input\n",
    "    : n_classes: Number of classes\n",
    "    : return: Tensor for label input.\n",
    "    \"\"\"\n",
    "    return tf.placeholder(dtype=tf.float32, shape=[None, n_classes], name='y')\n",
    "\n",
    "\n",
    "def neural_net_keep_prob_input():\n",
    "    \"\"\"\n",
    "    Return a Tensor for keep probability\n",
    "    : return: Tensor for keep probability.\n",
    "    \"\"\"\n",
    "    return tf.placeholder(tf.float32, name='keep_prob')\n",
    "\n",
    "initializer = tf.contrib.layers.xavier_initializer()\n",
    "\n",
    "\"\"\"\n",
    "DON'T MODIFY ANYTHING IN THIS CELL THAT IS BELOW THIS LINE\n",
    "\"\"\"\n",
    "tf.reset_default_graph()\n",
    "tests.test_nn_image_inputs(neural_net_image_input)\n",
    "tests.test_nn_label_inputs(neural_net_label_input)\n",
    "tests.test_nn_keep_prob_inputs(neural_net_keep_prob_input)"
   ]
  },
  {
   "cell_type": "markdown",
   "metadata": {},
   "source": [
    "### Convolution and Max Pooling Layer\n",
    "Convolution layers have a lot of success with images. For this code cell, you should implement the function `conv2d_maxpool` to apply convolution then max pooling:\n",
    "* Create the weight and bias using `conv_ksize`, `conv_num_outputs` and the shape of `x_tensor`.\n",
    "* Apply a convolution to `x_tensor` using weight and `conv_strides`.\n",
    " * We recommend you use same padding, but you're welcome to use any padding.\n",
    "* Add bias\n",
    "* Add a nonlinear activation to the convolution.\n",
    "* Apply Max Pooling using `pool_ksize` and `pool_strides`.\n",
    " * We recommend you use same padding, but you're welcome to use any padding.\n",
    "\n",
    "**Note:** You **can't** use [TensorFlow Layers](https://www.tensorflow.org/api_docs/python/tf/layers) or [TensorFlow Layers (contrib)](https://www.tensorflow.org/api_guides/python/contrib.layers) for **this** layer, but you can still use TensorFlow's [Neural Network](https://www.tensorflow.org/api_docs/python/tf/nn) package. You may still use the shortcut option for all the **other** layers.\n",
    "\n",
    "** Hint: **\n",
    "\n",
    "When unpacking values as an argument in Python, look into the [unpacking](https://docs.python.org/3/tutorial/controlflow.html#unpacking-argument-lists) operator. "
   ]
  },
  {
   "cell_type": "code",
   "execution_count": 3,
   "metadata": {},
   "outputs": [
    {
     "name": "stdout",
     "output_type": "stream",
     "text": [
      "conv: 0.03125\n",
      "Tests Passed\n"
     ]
    }
   ],
   "source": [
    "def conv2d_maxpool(x_tensor, conv_num_outputs, conv_ksize, conv_strides, pool_ksize, pool_strides):\n",
    "    \"\"\"\n",
    "    Apply convolution then max pooling to x_tensor\n",
    "    :param x_tensor: TensorFlow Tensor\n",
    "    :param conv_num_outputs: Number of outputs for the convolutional layer\n",
    "    :param conv_ksize: kernel size 2-D Tuple for the convolutional layer\n",
    "    :param conv_strides: Stride 2-D Tuple for convolution\n",
    "    :param pool_ksize: kernal size 2-D Tuple for pool\n",
    "    :param pool_strides: Stride 2-D Tuple for pool\n",
    "    : return: A tensor that represents convolution and max pooling of x_tensor\n",
    "    \"\"\"\n",
    "    in_shape = x_tensor.shape.as_list()\n",
    "    customed_stddev = 1./(in_shape[--1])\n",
    "    print('conv: ' + str(customed_stddev))\n",
    "    kernel = tf.Variable(tf.truncated_normal([conv_ksize[0], conv_ksize[1], in_shape[-1], conv_num_outputs], dtype=tf.float32, stddev=customed_stddev), trainable=True)\n",
    "    bias = tf.Variable(tf.zeros([conv_num_outputs]), trainable=True)\n",
    "#     kernel = tf.Variable(initializer([conv_ksize[0], conv_ksize[1], in_shape[-1], conv_num_outputs]), trainable=True)\n",
    "#     bias = tf.Variable(initializer([conv_num_outputs]), trainable=True)\n",
    "    out = tf.nn.conv2d(x_tensor, kernel, [1, conv_strides[0], conv_strides[1] ,1], padding='VALID')\n",
    "    out = tf.nn.bias_add(out, bias)\n",
    "    out = tf.nn.max_pool(out, ksize=[1, pool_ksize[0], pool_ksize[1], 1], strides=[1, pool_strides[0], pool_strides[1], 1], padding='SAME')\n",
    "    out = tf.nn.relu(out)\n",
    "    return  out\n",
    "\n",
    "\n",
    "\"\"\"\n",
    "DON'T MODIFY ANYTHING IN THIS CELL THAT IS BELOW THIS LINE\n",
    "\"\"\"\n",
    "tests.test_con_pool(conv2d_maxpool)"
   ]
  },
  {
   "cell_type": "markdown",
   "metadata": {},
   "source": [
    "### Flatten Layer\n",
    "Implement the `flatten` function to change the dimension of `x_tensor` from a 4-D tensor to a 2-D tensor.  The output should be the shape (*Batch Size*, *Flattened Image Size*). Shortcut option: you can use classes from the [TensorFlow Layers](https://www.tensorflow.org/api_docs/python/tf/layers) or [TensorFlow Layers (contrib)](https://www.tensorflow.org/api_guides/python/contrib.layers) packages for this layer. For more of a challenge, only use other TensorFlow packages."
   ]
  },
  {
   "cell_type": "code",
   "execution_count": 4,
   "metadata": {},
   "outputs": [
    {
     "name": "stdout",
     "output_type": "stream",
     "text": [
      "Tests Passed\n"
     ]
    }
   ],
   "source": [
    "def flatten(x_tensor):\n",
    "    \"\"\"\n",
    "    Flatten x_tensor to (Batch Size, Flattened Image Size)\n",
    "    : x_tensor: A tensor of size (Batch Size, ...), where ... are the image dimensions.\n",
    "    : return: A tensor of size (Batch Size, Flattened Image Size).\n",
    "    \"\"\"\n",
    "    # why np.prod could handle Dimension data type??\n",
    "    shape = int(np.prod(x_tensor.get_shape()[1:]))\n",
    "    return tf.reshape(x_tensor, [-1, shape])\n",
    "\n",
    "\n",
    "\"\"\"\n",
    "DON'T MODIFY ANYTHING IN THIS CELL THAT IS BELOW THIS LINE\n",
    "\"\"\"\n",
    "tests.test_flatten(flatten)"
   ]
  },
  {
   "cell_type": "markdown",
   "metadata": {},
   "source": [
    "### Fully-Connected Layer\n",
    "Implement the `fully_conn` function to apply a fully connected layer to `x_tensor` with the shape (*Batch Size*, *num_outputs*). Shortcut option: you can use classes from the [TensorFlow Layers](https://www.tensorflow.org/api_docs/python/tf/layers) or [TensorFlow Layers (contrib)](https://www.tensorflow.org/api_guides/python/contrib.layers) packages for this layer. For more of a challenge, only use other TensorFlow packages."
   ]
  },
  {
   "cell_type": "code",
   "execution_count": 5,
   "metadata": {},
   "outputs": [
    {
     "name": "stdout",
     "output_type": "stream",
     "text": [
      "fully: 0.0078125\n",
      "Tests Passed\n"
     ]
    }
   ],
   "source": [
    "def fully_conn(x_tensor, num_outputs):\n",
    "    \"\"\"\n",
    "    Apply a fully connected layer to x_tensor using weight and bias\n",
    "    : x_tensor: A 2-D tensor where the first dimension is batch size.\n",
    "    : num_outputs: The number of output that the new tensor should be.\n",
    "    : return: A 2-D tensor where the second dimension is num_outputs.\n",
    "    \"\"\"\n",
    "    in_dim = x_tensor.shape.as_list()[-1]\n",
    "    customed_stddev = 1./(in_dim)\n",
    "    print('fully: ' + str(customed_stddev))\n",
    "    weights = tf.Variable(tf.truncated_normal(shape=[in_dim, num_outputs], stddev=customed_stddev), trainable=True)\n",
    "    bias = tf.Variable(tf.zeros([num_outputs]), trainable=True)\n",
    "#     weights = tf.Variable(initializer([in_dim, num_outputs]), trainable=True)\n",
    "#     bias = tf.Variable(initializer([num_outputs]), trainable=True)\n",
    "    out = tf.matmul(x_tensor, weights)\n",
    "    out = tf.nn.bias_add(out, bias)\n",
    "    out = tf.nn.relu(out)\n",
    "\n",
    "    return out\n",
    "\n",
    "\n",
    "\"\"\"\n",
    "DON'T MODIFY ANYTHING IN THIS CELL THAT IS BELOW THIS LINE\n",
    "\"\"\"\n",
    "tests.test_fully_conn(fully_conn)"
   ]
  },
  {
   "cell_type": "markdown",
   "metadata": {},
   "source": [
    "### Output Layer\n",
    "Implement the `output` function to apply a fully connected layer to `x_tensor` with the shape (*Batch Size*, *num_outputs*). Shortcut option: you can use classes from the [TensorFlow Layers](https://www.tensorflow.org/api_docs/python/tf/layers) or [TensorFlow Layers (contrib)](https://www.tensorflow.org/api_guides/python/contrib.layers) packages for this layer. For more of a challenge, only use other TensorFlow packages.\n",
    "\n",
    "**Note:** Activation, softmax, or cross entropy should **not** be applied to this."
   ]
  },
  {
   "cell_type": "code",
   "execution_count": 6,
   "metadata": {},
   "outputs": [
    {
     "name": "stdout",
     "output_type": "stream",
     "text": [
      "out: 0.0078125\n",
      "Tests Passed\n"
     ]
    }
   ],
   "source": [
    "def output(x_tensor, num_outputs):\n",
    "    \"\"\"\n",
    "    Apply a output layer to x_tensor using weight and bias\n",
    "    : x_tensor: A 2-D tensor where the first dimension is batch size.\n",
    "    : num_outputs: The number of output that the new tensor should be.\n",
    "    : return: A 2-D tensor where the second dimension is num_outputs.\n",
    "    \"\"\"\n",
    "    in_dim = x_tensor.shape.as_list()[-1]\n",
    "    customed_stddev = 1./(in_dim)\n",
    "    print('out: ' + str(customed_stddev))\n",
    "    weights = tf.Variable(tf.truncated_normal(shape=[in_dim, num_outputs], stddev=customed_stddev), trainable=True)\n",
    "    bias = tf.Variable(tf.zeros([num_outputs]), trainable=True)\n",
    "    out = tf.matmul(x_tensor, weights)\n",
    "    out = tf.nn.bias_add(out, bias)\n",
    "    return out\n",
    "\n",
    "\"\"\"\n",
    "DON'T MODIFY ANYTHING IN THIS CELL THAT IS BELOW THIS LINE\n",
    "\"\"\"\n",
    "tests.test_output(output)"
   ]
  },
  {
   "cell_type": "markdown",
   "metadata": {},
   "source": [
    "### Create Convolutional Model\n",
    "Implement the function `conv_net` to create a convolutional neural network model. The function takes in a batch of images, `x`, and outputs logits.  Use the layers you created above to create this model:\n",
    "\n",
    "* Apply 1, 2, or 3 Convolution and Max Pool layers\n",
    "* Apply a Flatten Layer\n",
    "* Apply 1, 2, or 3 Fully Connected Layers\n",
    "* Apply an Output Layer\n",
    "* Return the output\n",
    "* Apply [TensorFlow's Dropout](https://www.tensorflow.org/api_docs/python/tf/nn/dropout) to one or more layers in the model using `keep_prob`. "
   ]
  },
  {
   "cell_type": "code",
   "execution_count": 7,
   "metadata": {},
   "outputs": [
    {
     "name": "stdout",
     "output_type": "stream",
     "text": [
      "conv: 0.03125\n",
      "conv: 0.06666666666666667\n",
      "conv: 0.14285714285714285\n",
      "fully: 0.00043402777777777775\n",
      "fully: 0.00390625\n",
      "fully: 0.00390625\n",
      "out: 0.00390625\n",
      "conv: 0.03125\n",
      "conv: 0.06666666666666667\n",
      "conv: 0.14285714285714285\n",
      "fully: 0.00043402777777777775\n",
      "fully: 0.00390625\n",
      "fully: 0.00390625\n",
      "out: 0.00390625\n",
      "Neural Network Built!\n"
     ]
    }
   ],
   "source": [
    "def conv_net(x, keep_prob):\n",
    "    \"\"\"\n",
    "    Create a convolutional neural network model\n",
    "    : x: Placeholder tensor that holds image data.\n",
    "    : keep_prob: Placeholder tensor that hold dropout keep probability.\n",
    "    : return: Tensor that represents logits\n",
    "    \"\"\"\n",
    "    # add conv layers\n",
    "    conv1 = conv2d_maxpool(x, 64, (3, 3), (1, 1), (2, 2), (2, 2))\n",
    "    conv2 = conv2d_maxpool(conv1, 128, (3, 3), (1, 1), (2, 2), (2, 2))\n",
    "    conv3 = conv2d_maxpool(conv2, 256, (3, 3), (1, 1), (2, 2), (2, 2))\n",
    "\n",
    "    # flatten\n",
    "    flat = flatten(conv3)\n",
    "\n",
    "    # add fully connnected layers\n",
    "    fc1 = fully_conn(flat, 256)\n",
    "    fc2 = fully_conn(fc1, 256)\n",
    "    fc3 = fully_conn(fc2, 256)\n",
    "    fc3 = tf.nn.dropout(fc3, keep_prob)\n",
    "    \n",
    "    # output layer\n",
    "    out = output(fc3, 10)\n",
    "    \n",
    "    return out\n",
    "\n",
    "\n",
    "\"\"\"\n",
    "DON'T MODIFY ANYTHING IN THIS CELL THAT IS BELOW THIS LINE\n",
    "\"\"\"\n",
    "\n",
    "##############################\n",
    "## Build the Neural Network ##\n",
    "##############################\n",
    "\n",
    "# Remove previous weights, bias, inputs, etc..\n",
    "tf.reset_default_graph()\n",
    "\n",
    "# Inputs\n",
    "x = neural_net_image_input((32, 32, 3))\n",
    "y = neural_net_label_input(10)\n",
    "keep_prob = neural_net_keep_prob_input()\n",
    "\n",
    "# Model\n",
    "logits = conv_net(x, keep_prob)\n",
    "\n",
    "# Name logits Tensor, so that is can be loaded from disk after training\n",
    "logits = tf.identity(logits, name='logits')\n",
    "\n",
    "# Loss and Optimizer\n",
    "cost = tf.reduce_mean(tf.nn.softmax_cross_entropy_with_logits(logits=logits, labels=y))\n",
    "optimizer = tf.train.AdamOptimizer().minimize(cost)\n",
    "\n",
    "# Accuracy\n",
    "correct_pred = tf.equal(tf.argmax(logits, 1), tf.argmax(y, 1))\n",
    "accuracy = tf.reduce_mean(tf.cast(correct_pred, tf.float32), name='accuracy')\n",
    "\n",
    "tests.test_conv_net(conv_net)"
   ]
  },
  {
   "cell_type": "markdown",
   "metadata": {},
   "source": [
    "## Train the Neural Network\n",
    "### Single Optimization\n",
    "Implement the function `train_neural_network` to do a single optimization.  The optimization should use `optimizer` to optimize in `session` with a `feed_dict` of the following:\n",
    "* `x` for image input\n",
    "* `y` for labels\n",
    "* `keep_prob` for keep probability for dropout\n",
    "\n",
    "This function will be called for each batch, so `tf.global_variables_initializer()` has already been called.\n",
    "\n",
    "Note: Nothing needs to be returned. This function is only optimizing the neural network."
   ]
  },
  {
   "cell_type": "code",
   "execution_count": 8,
   "metadata": {},
   "outputs": [
    {
     "name": "stdout",
     "output_type": "stream",
     "text": [
      "Tests Passed\n"
     ]
    }
   ],
   "source": [
    "def train_neural_network(session, optimizer, keep_probability, feature_batch, label_batch):\n",
    "    \"\"\"\n",
    "    Optimize the session on a batch of images and labels\n",
    "    : session: Current TensorFlow session\n",
    "    : optimizer: TensorFlow optimizer function\n",
    "    : keep_probability: keep probability\n",
    "    : feature_batch: Batch of Numpy image data\n",
    "    : label_batch: Batch of Numpy label data\n",
    "    \"\"\"\n",
    "    session.run(optimizer, feed_dict={x: feature_batch,\n",
    "                                   y: label_batch,\n",
    "                                   keep_prob: keep_probability})\n",
    "\n",
    "\"\"\"\n",
    "DON'T MODIFY ANYTHING IN THIS CELL THAT IS BELOW THIS LINE\n",
    "\"\"\"\n",
    "tests.test_train_nn(train_neural_network)"
   ]
  },
  {
   "cell_type": "markdown",
   "metadata": {},
   "source": [
    "### Show Stats\n",
    "Implement the function `print_stats` to print loss and validation accuracy.  Use the global variables `valid_features` and `valid_labels` to calculate validation accuracy.  Use a keep probability of `1.0` to calculate the loss and validation accuracy."
   ]
  },
  {
   "cell_type": "code",
   "execution_count": 9,
   "metadata": {
    "collapsed": true
   },
   "outputs": [],
   "source": [
    "# shouldn't keep_prob be the same value with which was used for training?\n",
    "def print_stats(session, feature_batch, label_batch, cost, accuracy):\n",
    "    \"\"\"\n",
    "    Print information about loss and validation accuracy\n",
    "    : session: Current TensorFlow session\n",
    "    : feature_batch: Batch of Numpy image data\n",
    "    : label_batch: Batch of Numpy label data\n",
    "    : cost: TensorFlow cost function\n",
    "    : accuracy: TensorFlow accuracy function\n",
    "    \"\"\"\n",
    "    c, a = session.run([cost, accuracy], feed_dict={x: feature_batch,\n",
    "                                                    y: label_batch,\n",
    "                                                    keep_prob: 1.0})\n",
    "    print('current loss: ' + str(c) + ' and accuracy: ' + str(a))"
   ]
  },
  {
   "cell_type": "markdown",
   "metadata": {},
   "source": [
    "### Hyperparameters\n",
    "Tune the following parameters:\n",
    "* Set `epochs` to the number of iterations until the network stops learning or start overfitting\n",
    "* Set `batch_size` to the highest number that your machine has memory for.  Most people set them to common sizes of memory:\n",
    " * 64\n",
    " * 128\n",
    " * 256\n",
    " * ...\n",
    "* Set `keep_probability` to the probability of keeping a node using dropout"
   ]
  },
  {
   "cell_type": "code",
   "execution_count": 10,
   "metadata": {
    "collapsed": true
   },
   "outputs": [],
   "source": [
    "# Tune Parameters\n",
    "epochs = 66\n",
    "batch_size = 64\n",
    "keep_probability = 1.\n",
    "# tf.trainable_variables()"
   ]
  },
  {
   "cell_type": "markdown",
   "metadata": {},
   "source": [
    "### Train on a Single CIFAR-10 Batch\n",
    "Instead of training the neural network on all the CIFAR-10 batches of data, let's use a single batch. This should save time while you iterate on the model to get a better accuracy.  Once the final validation accuracy is 50% or greater, run the model on all the data in the next section."
   ]
  },
  {
   "cell_type": "code",
   "execution_count": 11,
   "metadata": {},
   "outputs": [
    {
     "name": "stdout",
     "output_type": "stream",
     "text": [
      "Checking the Training on a Single Batch...\n",
      "Epoch  1, CIFAR-10 Batch 1:  current loss: 2.23176 and accuracy: 0.1\n",
      "Epoch  2, CIFAR-10 Batch 1:  current loss: 2.04828 and accuracy: 0.125\n",
      "Epoch  3, CIFAR-10 Batch 1:  current loss: 1.97502 and accuracy: 0.25\n",
      "Epoch  4, CIFAR-10 Batch 1:  current loss: 1.92245 and accuracy: 0.25\n",
      "Epoch  5, CIFAR-10 Batch 1:  current loss: 1.89062 and accuracy: 0.25\n",
      "Epoch  6, CIFAR-10 Batch 1:  current loss: 1.72042 and accuracy: 0.4\n",
      "Epoch  7, CIFAR-10 Batch 1:  current loss: 1.59655 and accuracy: 0.375\n",
      "Epoch  8, CIFAR-10 Batch 1:  current loss: 1.48554 and accuracy: 0.425\n",
      "Epoch  9, CIFAR-10 Batch 1:  current loss: 1.41752 and accuracy: 0.45\n",
      "Epoch 10, CIFAR-10 Batch 1:  current loss: 1.16367 and accuracy: 0.525\n",
      "Epoch 11, CIFAR-10 Batch 1:  current loss: 1.21534 and accuracy: 0.55\n",
      "Epoch 12, CIFAR-10 Batch 1:  current loss: 1.12641 and accuracy: 0.55\n",
      "Epoch 13, CIFAR-10 Batch 1:  current loss: 1.01401 and accuracy: 0.55\n",
      "Epoch 14, CIFAR-10 Batch 1:  current loss: 0.81302 and accuracy: 0.675\n",
      "Epoch 15, CIFAR-10 Batch 1:  current loss: 0.725232 and accuracy: 0.7\n",
      "Epoch 16, CIFAR-10 Batch 1:  current loss: 0.644264 and accuracy: 0.7\n",
      "Epoch 17, CIFAR-10 Batch 1:  current loss: 0.649582 and accuracy: 0.725\n",
      "Epoch 18, CIFAR-10 Batch 1:  current loss: 0.656875 and accuracy: 0.775\n",
      "Epoch 19, CIFAR-10 Batch 1:  current loss: 0.60429 and accuracy: 0.75\n",
      "Epoch 20, CIFAR-10 Batch 1:  current loss: 0.400827 and accuracy: 0.9\n",
      "Epoch 21, CIFAR-10 Batch 1:  current loss: 0.302588 and accuracy: 0.85\n",
      "Epoch 22, CIFAR-10 Batch 1:  current loss: 0.184586 and accuracy: 0.95\n",
      "Epoch 23, CIFAR-10 Batch 1:  current loss: 0.202313 and accuracy: 0.9\n",
      "Epoch 24, CIFAR-10 Batch 1:  current loss: 0.173031 and accuracy: 0.975\n",
      "Epoch 25, CIFAR-10 Batch 1:  current loss: 0.137429 and accuracy: 0.975\n",
      "Epoch 26, CIFAR-10 Batch 1:  current loss: 0.294961 and accuracy: 0.9\n",
      "Epoch 27, CIFAR-10 Batch 1:  current loss: 0.107312 and accuracy: 0.975\n",
      "Epoch 28, CIFAR-10 Batch 1:  current loss: 0.0543306 and accuracy: 1.0\n",
      "Epoch 29, CIFAR-10 Batch 1:  current loss: 0.232457 and accuracy: 0.95\n",
      "Epoch 30, CIFAR-10 Batch 1:  current loss: 0.110507 and accuracy: 0.95\n",
      "Epoch 31, CIFAR-10 Batch 1:  current loss: 0.0852755 and accuracy: 0.975\n",
      "Epoch 32, CIFAR-10 Batch 1:  current loss: 0.0451452 and accuracy: 1.0\n",
      "Epoch 33, CIFAR-10 Batch 1:  current loss: 0.0407987 and accuracy: 1.0\n",
      "Epoch 34, CIFAR-10 Batch 1:  current loss: 0.0332552 and accuracy: 1.0\n",
      "Epoch 35, CIFAR-10 Batch 1:  current loss: 0.189277 and accuracy: 0.95\n",
      "Epoch 36, CIFAR-10 Batch 1:  current loss: 0.0685324 and accuracy: 1.0\n",
      "Epoch 37, CIFAR-10 Batch 1:  current loss: 0.0231864 and accuracy: 1.0\n",
      "Epoch 38, CIFAR-10 Batch 1:  current loss: 0.0239018 and accuracy: 1.0\n",
      "Epoch 39, CIFAR-10 Batch 1:  current loss: 0.0264373 and accuracy: 1.0\n",
      "Epoch 40, CIFAR-10 Batch 1:  current loss: 0.0217069 and accuracy: 1.0\n",
      "Epoch 41, CIFAR-10 Batch 1:  current loss: 0.02406 and accuracy: 1.0\n",
      "Epoch 42, CIFAR-10 Batch 1:  current loss: 0.0156649 and accuracy: 1.0\n",
      "Epoch 43, CIFAR-10 Batch 1:  current loss: 0.025769 and accuracy: 1.0\n",
      "Epoch 44, CIFAR-10 Batch 1:  current loss: 0.0171561 and accuracy: 1.0\n",
      "Epoch 45, CIFAR-10 Batch 1:  current loss: 0.0221659 and accuracy: 1.0\n",
      "Epoch 46, CIFAR-10 Batch 1:  current loss: 0.0206904 and accuracy: 1.0\n",
      "Epoch 47, CIFAR-10 Batch 1:  current loss: 0.00765598 and accuracy: 1.0\n",
      "Epoch 48, CIFAR-10 Batch 1:  current loss: 0.0187953 and accuracy: 1.0\n",
      "Epoch 49, CIFAR-10 Batch 1:  current loss: 0.0169484 and accuracy: 1.0\n",
      "Epoch 50, CIFAR-10 Batch 1:  current loss: 0.00528013 and accuracy: 1.0\n",
      "Epoch 51, CIFAR-10 Batch 1:  current loss: 0.0217319 and accuracy: 1.0\n",
      "Epoch 52, CIFAR-10 Batch 1:  current loss: 0.0121574 and accuracy: 1.0\n",
      "Epoch 53, CIFAR-10 Batch 1:  current loss: 0.0041932 and accuracy: 1.0\n",
      "Epoch 54, CIFAR-10 Batch 1:  current loss: 0.0164179 and accuracy: 1.0\n",
      "Epoch 55, CIFAR-10 Batch 1:  current loss: 0.0535112 and accuracy: 0.975\n",
      "Epoch 56, CIFAR-10 Batch 1:  current loss: 0.00363833 and accuracy: 1.0\n",
      "Epoch 57, CIFAR-10 Batch 1:  current loss: 0.00978945 and accuracy: 1.0\n",
      "Epoch 58, CIFAR-10 Batch 1:  current loss: 0.00274238 and accuracy: 1.0\n",
      "Epoch 59, CIFAR-10 Batch 1:  current loss: 0.00713978 and accuracy: 1.0\n",
      "Epoch 60, CIFAR-10 Batch 1:  current loss: 0.00317029 and accuracy: 1.0\n",
      "Epoch 61, CIFAR-10 Batch 1:  current loss: 0.00486767 and accuracy: 1.0\n",
      "Epoch 62, CIFAR-10 Batch 1:  current loss: 0.848221 and accuracy: 0.975\n",
      "Epoch 63, CIFAR-10 Batch 1:  current loss: 0.0217096 and accuracy: 1.0\n",
      "Epoch 64, CIFAR-10 Batch 1:  current loss: 0.00565692 and accuracy: 1.0\n",
      "Epoch 65, CIFAR-10 Batch 1:  current loss: 0.00501608 and accuracy: 1.0\n",
      "Epoch 66, CIFAR-10 Batch 1:  current loss: 0.00327986 and accuracy: 1.0\n"
     ]
    }
   ],
   "source": [
    "\"\"\"\n",
    "DON'T MODIFY ANYTHING IN THIS CELL\n",
    "\"\"\"\n",
    "print('Checking the Training on a Single Batch...')\n",
    "with tf.Session() as sess:\n",
    "    # Initializing the variables\n",
    "    sess.run(tf.global_variables_initializer())\n",
    "    \n",
    "    # Training cycle\n",
    "    for epoch in range(epochs):\n",
    "        batch_i = 1\n",
    "        for batch_features, batch_labels in helper.load_preprocess_training_batch(batch_i, batch_size):\n",
    "            train_neural_network(sess, optimizer, keep_probability, batch_features, batch_labels)\n",
    "        \n",
    "        print('Epoch {:>2}, CIFAR-10 Batch {}:  '.format(epoch + 1, batch_i), end='')\n",
    "        print_stats(sess, batch_features, batch_labels, cost, accuracy)\n",
    "        "
   ]
  },
  {
   "cell_type": "code",
   "execution_count": 12,
   "metadata": {
    "collapsed": true
   },
   "outputs": [],
   "source": [
    "# add tensorboard inspection but it didn't work\n",
    "#     tf.summary.scalar('conv1-min', tf.reduce_mean(conv1))\n",
    "#     merged = tf.summary.merge_all()\n",
    "#     train_writer = tf.summary.FileWriter('./train',\n",
    "#                                       sess.graph)\n",
    "#     summary, _ = sess.run([merged, optimizer], \n",
    "#                                   feed_dict={x: batch_features,\n",
    "#                                              y: batch_labels,\n",
    "#                                              keep_prob: 1})"
   ]
  },
  {
   "cell_type": "markdown",
   "metadata": {},
   "source": [
    "### Fully Train the Model\n",
    "Now that you got a good accuracy with a single CIFAR-10 batch, try it with all five batches."
   ]
  },
  {
   "cell_type": "code",
   "execution_count": 13,
   "metadata": {},
   "outputs": [
    {
     "name": "stdout",
     "output_type": "stream",
     "text": [
      "Training...\n",
      "Epoch  1, CIFAR-10 Batch 1:  current loss: 2.21478 and accuracy: 0.175\n",
      "Epoch  1, CIFAR-10 Batch 2:  current loss: 1.95506 and accuracy: 0.275\n",
      "Epoch  1, CIFAR-10 Batch 3:  current loss: 1.57402 and accuracy: 0.35\n",
      "Epoch  1, CIFAR-10 Batch 4:  current loss: 1.78399 and accuracy: 0.2\n",
      "Epoch  1, CIFAR-10 Batch 5:  current loss: 1.5282 and accuracy: 0.4\n",
      "Epoch  2, CIFAR-10 Batch 1:  current loss: 1.71458 and accuracy: 0.375\n",
      "Epoch  2, CIFAR-10 Batch 2:  current loss: 1.49556 and accuracy: 0.475\n",
      "Epoch  2, CIFAR-10 Batch 3:  current loss: 1.25962 and accuracy: 0.525\n",
      "Epoch  2, CIFAR-10 Batch 4:  current loss: 1.39447 and accuracy: 0.45\n",
      "Epoch  2, CIFAR-10 Batch 5:  current loss: 1.09869 and accuracy: 0.7\n",
      "Epoch  3, CIFAR-10 Batch 1:  current loss: 1.23534 and accuracy: 0.55\n",
      "Epoch  3, CIFAR-10 Batch 2:  current loss: 1.04118 and accuracy: 0.6\n",
      "Epoch  3, CIFAR-10 Batch 3:  current loss: 0.72127 and accuracy: 0.7\n",
      "Epoch  3, CIFAR-10 Batch 4:  current loss: 1.05622 and accuracy: 0.575\n",
      "Epoch  3, CIFAR-10 Batch 5:  current loss: 0.787375 and accuracy: 0.75\n",
      "Epoch  4, CIFAR-10 Batch 1:  current loss: 0.974385 and accuracy: 0.55\n",
      "Epoch  4, CIFAR-10 Batch 2:  current loss: 0.794788 and accuracy: 0.7\n",
      "Epoch  4, CIFAR-10 Batch 3:  current loss: 0.521122 and accuracy: 0.85\n",
      "Epoch  4, CIFAR-10 Batch 4:  current loss: 0.733676 and accuracy: 0.7\n",
      "Epoch  4, CIFAR-10 Batch 5:  current loss: 0.707664 and accuracy: 0.775\n",
      "Epoch  5, CIFAR-10 Batch 1:  current loss: 0.721512 and accuracy: 0.775\n",
      "Epoch  5, CIFAR-10 Batch 2:  current loss: 0.702604 and accuracy: 0.725\n",
      "Epoch  5, CIFAR-10 Batch 3:  current loss: 0.384042 and accuracy: 0.925\n",
      "Epoch  5, CIFAR-10 Batch 4:  current loss: 0.5333 and accuracy: 0.8\n",
      "Epoch  5, CIFAR-10 Batch 5:  current loss: 0.493299 and accuracy: 0.85\n",
      "Epoch  6, CIFAR-10 Batch 1:  current loss: 0.548541 and accuracy: 0.825\n",
      "Epoch  6, CIFAR-10 Batch 2:  current loss: 0.643424 and accuracy: 0.775\n",
      "Epoch  6, CIFAR-10 Batch 3:  current loss: 0.354788 and accuracy: 0.95\n",
      "Epoch  6, CIFAR-10 Batch 4:  current loss: 0.397006 and accuracy: 0.875\n",
      "Epoch  6, CIFAR-10 Batch 5:  current loss: 0.400648 and accuracy: 0.875\n",
      "Epoch  7, CIFAR-10 Batch 1:  current loss: 0.458417 and accuracy: 0.85\n",
      "Epoch  7, CIFAR-10 Batch 2:  current loss: 0.397733 and accuracy: 0.85\n",
      "Epoch  7, CIFAR-10 Batch 3:  current loss: 0.265156 and accuracy: 0.925\n",
      "Epoch  7, CIFAR-10 Batch 4:  current loss: 0.369565 and accuracy: 0.825\n",
      "Epoch  7, CIFAR-10 Batch 5:  current loss: 0.277025 and accuracy: 0.925\n",
      "Epoch  8, CIFAR-10 Batch 1:  current loss: 0.325787 and accuracy: 0.875\n",
      "Epoch  8, CIFAR-10 Batch 2:  current loss: 0.30658 and accuracy: 0.9\n",
      "Epoch  8, CIFAR-10 Batch 3:  current loss: 0.205741 and accuracy: 0.95\n",
      "Epoch  8, CIFAR-10 Batch 4:  current loss: 0.315572 and accuracy: 0.9\n",
      "Epoch  8, CIFAR-10 Batch 5:  current loss: 0.179448 and accuracy: 0.95\n",
      "Epoch  9, CIFAR-10 Batch 1:  current loss: 0.17061 and accuracy: 0.95\n",
      "Epoch  9, CIFAR-10 Batch 2:  current loss: 0.204235 and accuracy: 0.925\n",
      "Epoch  9, CIFAR-10 Batch 3:  current loss: 0.132994 and accuracy: 0.95\n",
      "Epoch  9, CIFAR-10 Batch 4:  current loss: 0.232537 and accuracy: 0.95\n",
      "Epoch  9, CIFAR-10 Batch 5:  current loss: 0.141674 and accuracy: 0.925\n",
      "Epoch 10, CIFAR-10 Batch 1:  current loss: 0.1693 and accuracy: 0.925\n",
      "Epoch 10, CIFAR-10 Batch 2:  current loss: 0.181713 and accuracy: 0.925\n",
      "Epoch 10, CIFAR-10 Batch 3:  current loss: 0.182106 and accuracy: 0.95\n",
      "Epoch 10, CIFAR-10 Batch 4:  current loss: 0.162565 and accuracy: 0.975\n",
      "Epoch 10, CIFAR-10 Batch 5:  current loss: 0.0789794 and accuracy: 1.0\n",
      "Epoch 11, CIFAR-10 Batch 1:  current loss: 0.0923672 and accuracy: 0.975\n",
      "Epoch 11, CIFAR-10 Batch 2:  current loss: 0.0998518 and accuracy: 1.0\n",
      "Epoch 11, CIFAR-10 Batch 3:  current loss: 0.0955177 and accuracy: 1.0\n",
      "Epoch 11, CIFAR-10 Batch 4:  current loss: 0.0882726 and accuracy: 0.975\n",
      "Epoch 11, CIFAR-10 Batch 5:  current loss: 0.07533 and accuracy: 0.975\n",
      "Epoch 12, CIFAR-10 Batch 1:  current loss: 0.0717146 and accuracy: 1.0\n",
      "Epoch 12, CIFAR-10 Batch 2:  current loss: 0.0618198 and accuracy: 0.975\n",
      "Epoch 12, CIFAR-10 Batch 3:  current loss: 0.0596704 and accuracy: 1.0\n",
      "Epoch 12, CIFAR-10 Batch 4:  current loss: 0.0689238 and accuracy: 0.975\n",
      "Epoch 12, CIFAR-10 Batch 5:  current loss: 0.0760567 and accuracy: 1.0\n",
      "Epoch 13, CIFAR-10 Batch 1:  current loss: 0.0738578 and accuracy: 0.975\n",
      "Epoch 13, CIFAR-10 Batch 2:  current loss: 0.0521395 and accuracy: 0.975\n",
      "Epoch 13, CIFAR-10 Batch 3:  current loss: 0.0430257 and accuracy: 1.0\n",
      "Epoch 13, CIFAR-10 Batch 4:  current loss: 0.0668534 and accuracy: 1.0\n",
      "Epoch 13, CIFAR-10 Batch 5:  current loss: 0.0487519 and accuracy: 1.0\n",
      "Epoch 14, CIFAR-10 Batch 1:  current loss: 0.0470174 and accuracy: 1.0\n",
      "Epoch 14, CIFAR-10 Batch 2:  current loss: 0.0726434 and accuracy: 1.0\n",
      "Epoch 14, CIFAR-10 Batch 3:  current loss: 0.0878221 and accuracy: 0.975\n",
      "Epoch 14, CIFAR-10 Batch 4:  current loss: 0.031772 and accuracy: 1.0\n",
      "Epoch 14, CIFAR-10 Batch 5:  current loss: 0.178246 and accuracy: 0.95\n",
      "Epoch 15, CIFAR-10 Batch 1:  current loss: 0.0437772 and accuracy: 1.0\n",
      "Epoch 15, CIFAR-10 Batch 2:  current loss: 0.121677 and accuracy: 0.975\n",
      "Epoch 15, CIFAR-10 Batch 3:  current loss: 0.0603286 and accuracy: 1.0\n",
      "Epoch 15, CIFAR-10 Batch 4:  current loss: 0.0480294 and accuracy: 1.0\n",
      "Epoch 15, CIFAR-10 Batch 5:  current loss: 0.0274371 and accuracy: 1.0\n",
      "Epoch 16, CIFAR-10 Batch 1:  current loss: 0.0299435 and accuracy: 1.0\n",
      "Epoch 16, CIFAR-10 Batch 2:  current loss: 0.0274699 and accuracy: 1.0\n",
      "Epoch 16, CIFAR-10 Batch 3:  current loss: 0.0454703 and accuracy: 0.975\n",
      "Epoch 16, CIFAR-10 Batch 4:  current loss: 0.0480289 and accuracy: 0.975\n",
      "Epoch 16, CIFAR-10 Batch 5:  current loss: 0.0321337 and accuracy: 1.0\n",
      "Epoch 17, CIFAR-10 Batch 1:  current loss: 0.0196585 and accuracy: 1.0\n",
      "Epoch 17, CIFAR-10 Batch 2:  current loss: 0.0180659 and accuracy: 1.0\n",
      "Epoch 17, CIFAR-10 Batch 3:  current loss: 0.0529557 and accuracy: 1.0\n",
      "Epoch 17, CIFAR-10 Batch 4:  current loss: 0.00928642 and accuracy: 1.0\n",
      "Epoch 17, CIFAR-10 Batch 5:  current loss: 0.0113778 and accuracy: 1.0\n",
      "Epoch 18, CIFAR-10 Batch 1:  current loss: 0.0263889 and accuracy: 1.0\n",
      "Epoch 18, CIFAR-10 Batch 2:  current loss: 0.0289697 and accuracy: 1.0\n",
      "Epoch 18, CIFAR-10 Batch 3:  current loss: 0.0363287 and accuracy: 1.0\n",
      "Epoch 18, CIFAR-10 Batch 4:  current loss: 0.0205945 and accuracy: 1.0\n",
      "Epoch 18, CIFAR-10 Batch 5:  current loss: 0.0146347 and accuracy: 1.0\n",
      "Epoch 19, CIFAR-10 Batch 1:  current loss: 0.0210679 and accuracy: 1.0\n",
      "Epoch 19, CIFAR-10 Batch 2:  current loss: 0.0192763 and accuracy: 1.0\n",
      "Epoch 19, CIFAR-10 Batch 3:  current loss: 0.0219216 and accuracy: 1.0\n",
      "Epoch 19, CIFAR-10 Batch 4:  current loss: 0.0201637 and accuracy: 1.0\n",
      "Epoch 19, CIFAR-10 Batch 5:  current loss: 0.00654424 and accuracy: 1.0\n",
      "Epoch 20, CIFAR-10 Batch 1:  current loss: 0.0220083 and accuracy: 1.0\n",
      "Epoch 20, CIFAR-10 Batch 2:  current loss: 0.0130186 and accuracy: 1.0\n",
      "Epoch 20, CIFAR-10 Batch 3:  current loss: 0.0171187 and accuracy: 1.0\n",
      "Epoch 20, CIFAR-10 Batch 4:  current loss: 0.019709 and accuracy: 1.0\n",
      "Epoch 20, CIFAR-10 Batch 5:  current loss: 0.00874799 and accuracy: 1.0\n",
      "Epoch 21, CIFAR-10 Batch 1:  current loss: 0.0161135 and accuracy: 1.0\n",
      "Epoch 21, CIFAR-10 Batch 2:  current loss: 0.0104318 and accuracy: 1.0\n",
      "Epoch 21, CIFAR-10 Batch 3:  current loss: 0.00793804 and accuracy: 1.0\n",
      "Epoch 21, CIFAR-10 Batch 4:  current loss: 0.0112964 and accuracy: 1.0\n",
      "Epoch 21, CIFAR-10 Batch 5:  current loss: 0.0543757 and accuracy: 0.975\n",
      "Epoch 22, CIFAR-10 Batch 1:  current loss: 0.0149428 and accuracy: 1.0\n",
      "Epoch 22, CIFAR-10 Batch 2:  current loss: 0.0153853 and accuracy: 1.0\n",
      "Epoch 22, CIFAR-10 Batch 3:  current loss: 0.0171335 and accuracy: 1.0\n",
      "Epoch 22, CIFAR-10 Batch 4:  current loss: 0.0150714 and accuracy: 1.0\n",
      "Epoch 22, CIFAR-10 Batch 5:  current loss: 0.108264 and accuracy: 0.95\n",
      "Epoch 23, CIFAR-10 Batch 1:  current loss: 0.00903788 and accuracy: 1.0\n",
      "Epoch 23, CIFAR-10 Batch 2:  current loss: 0.00402266 and accuracy: 1.0\n",
      "Epoch 23, CIFAR-10 Batch 3:  current loss: 0.0093864 and accuracy: 1.0\n",
      "Epoch 23, CIFAR-10 Batch 4:  current loss: 0.00533927 and accuracy: 1.0\n",
      "Epoch 23, CIFAR-10 Batch 5:  current loss: 0.0064542 and accuracy: 1.0\n"
     ]
    },
    {
     "name": "stdout",
     "output_type": "stream",
     "text": [
      "Epoch 24, CIFAR-10 Batch 1:  current loss: 0.00750418 and accuracy: 1.0\n",
      "Epoch 24, CIFAR-10 Batch 2:  current loss: 0.0060112 and accuracy: 1.0\n",
      "Epoch 24, CIFAR-10 Batch 3:  current loss: 0.0140533 and accuracy: 1.0\n",
      "Epoch 24, CIFAR-10 Batch 4:  current loss: 0.00659956 and accuracy: 1.0\n",
      "Epoch 24, CIFAR-10 Batch 5:  current loss: 0.00251491 and accuracy: 1.0\n",
      "Epoch 25, CIFAR-10 Batch 1:  current loss: 0.0129415 and accuracy: 1.0\n",
      "Epoch 25, CIFAR-10 Batch 2:  current loss: 0.00371511 and accuracy: 1.0\n",
      "Epoch 25, CIFAR-10 Batch 3:  current loss: 0.00337392 and accuracy: 1.0\n",
      "Epoch 25, CIFAR-10 Batch 4:  current loss: 0.00369542 and accuracy: 1.0\n",
      "Epoch 25, CIFAR-10 Batch 5:  current loss: 0.00162104 and accuracy: 1.0\n",
      "Epoch 26, CIFAR-10 Batch 1:  current loss: 0.00703085 and accuracy: 1.0\n",
      "Epoch 26, CIFAR-10 Batch 2:  current loss: 0.0358656 and accuracy: 0.975\n",
      "Epoch 26, CIFAR-10 Batch 3:  current loss: 0.00366709 and accuracy: 1.0\n",
      "Epoch 26, CIFAR-10 Batch 4:  current loss: 0.0131066 and accuracy: 1.0\n",
      "Epoch 26, CIFAR-10 Batch 5:  current loss: 0.00297888 and accuracy: 1.0\n",
      "Epoch 27, CIFAR-10 Batch 1:  current loss: 0.0366987 and accuracy: 0.975\n",
      "Epoch 27, CIFAR-10 Batch 2:  current loss: 0.00355448 and accuracy: 1.0\n",
      "Epoch 27, CIFAR-10 Batch 3:  current loss: 0.0137908 and accuracy: 1.0\n",
      "Epoch 27, CIFAR-10 Batch 4:  current loss: 0.0216767 and accuracy: 1.0\n",
      "Epoch 27, CIFAR-10 Batch 5:  current loss: 0.00410911 and accuracy: 1.0\n",
      "Epoch 28, CIFAR-10 Batch 1:  current loss: 0.0237108 and accuracy: 1.0\n",
      "Epoch 28, CIFAR-10 Batch 2:  current loss: 0.00475171 and accuracy: 1.0\n",
      "Epoch 28, CIFAR-10 Batch 3:  current loss: 0.00612399 and accuracy: 1.0\n",
      "Epoch 28, CIFAR-10 Batch 4:  current loss: 0.0122162 and accuracy: 1.0\n",
      "Epoch 28, CIFAR-10 Batch 5:  current loss: 0.00298741 and accuracy: 1.0\n",
      "Epoch 29, CIFAR-10 Batch 1:  current loss: 0.0140385 and accuracy: 1.0\n",
      "Epoch 29, CIFAR-10 Batch 2:  current loss: 0.00660693 and accuracy: 1.0\n",
      "Epoch 29, CIFAR-10 Batch 3:  current loss: 0.00959493 and accuracy: 1.0\n",
      "Epoch 29, CIFAR-10 Batch 4:  current loss: 0.00470914 and accuracy: 1.0\n",
      "Epoch 29, CIFAR-10 Batch 5:  current loss: 0.0055232 and accuracy: 1.0\n",
      "Epoch 30, CIFAR-10 Batch 1:  current loss: 0.0102795 and accuracy: 1.0\n",
      "Epoch 30, CIFAR-10 Batch 2:  current loss: 0.0238643 and accuracy: 1.0\n",
      "Epoch 30, CIFAR-10 Batch 3:  current loss: 0.00331881 and accuracy: 1.0\n",
      "Epoch 30, CIFAR-10 Batch 4:  current loss: 0.0067352 and accuracy: 1.0\n",
      "Epoch 30, CIFAR-10 Batch 5:  current loss: 0.0042867 and accuracy: 1.0\n",
      "Epoch 31, CIFAR-10 Batch 1:  current loss: 0.00777781 and accuracy: 1.0\n",
      "Epoch 31, CIFAR-10 Batch 2:  current loss: 0.000635014 and accuracy: 1.0\n",
      "Epoch 31, CIFAR-10 Batch 3:  current loss: 0.00458043 and accuracy: 1.0\n",
      "Epoch 31, CIFAR-10 Batch 4:  current loss: 0.0171991 and accuracy: 1.0\n",
      "Epoch 31, CIFAR-10 Batch 5:  current loss: 0.004396 and accuracy: 1.0\n",
      "Epoch 32, CIFAR-10 Batch 1:  current loss: 0.00197983 and accuracy: 1.0\n",
      "Epoch 32, CIFAR-10 Batch 2:  current loss: 0.00692578 and accuracy: 1.0\n",
      "Epoch 32, CIFAR-10 Batch 3:  current loss: 0.00407525 and accuracy: 1.0\n",
      "Epoch 32, CIFAR-10 Batch 4:  current loss: 0.00401047 and accuracy: 1.0\n",
      "Epoch 32, CIFAR-10 Batch 5:  current loss: 0.000671435 and accuracy: 1.0\n",
      "Epoch 33, CIFAR-10 Batch 1:  current loss: 0.00447827 and accuracy: 1.0\n",
      "Epoch 33, CIFAR-10 Batch 2:  current loss: 0.00175735 and accuracy: 1.0\n",
      "Epoch 33, CIFAR-10 Batch 3:  current loss: 0.0125144 and accuracy: 1.0\n",
      "Epoch 33, CIFAR-10 Batch 4:  current loss: 0.0279718 and accuracy: 0.975\n",
      "Epoch 33, CIFAR-10 Batch 5:  current loss: 0.00170361 and accuracy: 1.0\n",
      "Epoch 34, CIFAR-10 Batch 1:  current loss: 0.00771251 and accuracy: 1.0\n",
      "Epoch 34, CIFAR-10 Batch 2:  current loss: 0.00249847 and accuracy: 1.0\n",
      "Epoch 34, CIFAR-10 Batch 3:  current loss: 0.0081597 and accuracy: 1.0\n",
      "Epoch 34, CIFAR-10 Batch 4:  current loss: 0.00550731 and accuracy: 1.0\n",
      "Epoch 34, CIFAR-10 Batch 5:  current loss: 0.00190212 and accuracy: 1.0\n",
      "Epoch 35, CIFAR-10 Batch 1:  current loss: 0.00525909 and accuracy: 1.0\n",
      "Epoch 35, CIFAR-10 Batch 2:  current loss: 0.00107064 and accuracy: 1.0\n",
      "Epoch 35, CIFAR-10 Batch 3:  current loss: 0.00802952 and accuracy: 1.0\n",
      "Epoch 35, CIFAR-10 Batch 4:  current loss: 0.00215414 and accuracy: 1.0\n",
      "Epoch 35, CIFAR-10 Batch 5:  current loss: 0.0398743 and accuracy: 0.975\n",
      "Epoch 36, CIFAR-10 Batch 1:  current loss: 0.00331634 and accuracy: 1.0\n",
      "Epoch 36, CIFAR-10 Batch 2:  current loss: 0.000758077 and accuracy: 1.0\n",
      "Epoch 36, CIFAR-10 Batch 3:  current loss: 0.00565931 and accuracy: 1.0\n",
      "Epoch 36, CIFAR-10 Batch 4:  current loss: 0.00950568 and accuracy: 1.0\n",
      "Epoch 36, CIFAR-10 Batch 5:  current loss: 0.00334794 and accuracy: 1.0\n",
      "Epoch 37, CIFAR-10 Batch 1:  current loss: 0.000299402 and accuracy: 1.0\n",
      "Epoch 37, CIFAR-10 Batch 2:  current loss: 0.00294303 and accuracy: 1.0\n",
      "Epoch 37, CIFAR-10 Batch 3:  current loss: 0.0027255 and accuracy: 1.0\n",
      "Epoch 37, CIFAR-10 Batch 4:  current loss: 0.00210434 and accuracy: 1.0\n",
      "Epoch 37, CIFAR-10 Batch 5:  current loss: 0.00246044 and accuracy: 1.0\n",
      "Epoch 38, CIFAR-10 Batch 1:  current loss: 0.000466304 and accuracy: 1.0\n",
      "Epoch 38, CIFAR-10 Batch 2:  current loss: 0.00420989 and accuracy: 1.0\n",
      "Epoch 38, CIFAR-10 Batch 3:  current loss: 0.000649409 and accuracy: 1.0\n",
      "Epoch 38, CIFAR-10 Batch 4:  current loss: 0.00905355 and accuracy: 1.0\n",
      "Epoch 38, CIFAR-10 Batch 5:  current loss: 0.00175322 and accuracy: 1.0\n",
      "Epoch 39, CIFAR-10 Batch 1:  current loss: 0.0018826 and accuracy: 1.0\n",
      "Epoch 39, CIFAR-10 Batch 2:  current loss: 0.0017409 and accuracy: 1.0\n",
      "Epoch 39, CIFAR-10 Batch 3:  current loss: 0.000683969 and accuracy: 1.0\n",
      "Epoch 39, CIFAR-10 Batch 4:  current loss: 0.00118658 and accuracy: 1.0\n",
      "Epoch 39, CIFAR-10 Batch 5:  current loss: 0.00277444 and accuracy: 1.0\n",
      "Epoch 40, CIFAR-10 Batch 1:  current loss: 0.00425377 and accuracy: 1.0\n",
      "Epoch 40, CIFAR-10 Batch 2:  current loss: 0.000300778 and accuracy: 1.0\n",
      "Epoch 40, CIFAR-10 Batch 3:  current loss: 0.00502912 and accuracy: 1.0\n",
      "Epoch 40, CIFAR-10 Batch 4:  current loss: 0.00241664 and accuracy: 1.0\n",
      "Epoch 40, CIFAR-10 Batch 5:  current loss: 0.00493566 and accuracy: 1.0\n",
      "Epoch 41, CIFAR-10 Batch 1:  current loss: 0.00316572 and accuracy: 1.0\n",
      "Epoch 41, CIFAR-10 Batch 2:  current loss: 0.00149782 and accuracy: 1.0\n",
      "Epoch 41, CIFAR-10 Batch 3:  current loss: 0.00687708 and accuracy: 1.0\n",
      "Epoch 41, CIFAR-10 Batch 4:  current loss: 0.00695872 and accuracy: 1.0\n",
      "Epoch 41, CIFAR-10 Batch 5:  current loss: 0.00796204 and accuracy: 1.0\n",
      "Epoch 42, CIFAR-10 Batch 1:  current loss: 0.00636173 and accuracy: 1.0\n",
      "Epoch 42, CIFAR-10 Batch 2:  current loss: 0.00113681 and accuracy: 1.0\n",
      "Epoch 42, CIFAR-10 Batch 3:  current loss: 0.00418043 and accuracy: 1.0\n",
      "Epoch 42, CIFAR-10 Batch 4:  current loss: 0.0104141 and accuracy: 1.0\n",
      "Epoch 42, CIFAR-10 Batch 5:  current loss: 0.00126256 and accuracy: 1.0\n",
      "Epoch 43, CIFAR-10 Batch 1:  current loss: 0.000931644 and accuracy: 1.0\n",
      "Epoch 43, CIFAR-10 Batch 2:  current loss: 0.000687062 and accuracy: 1.0\n",
      "Epoch 43, CIFAR-10 Batch 3:  current loss: 0.00207446 and accuracy: 1.0\n",
      "Epoch 43, CIFAR-10 Batch 4:  current loss: 0.00848808 and accuracy: 1.0\n",
      "Epoch 43, CIFAR-10 Batch 5:  current loss: 0.0153336 and accuracy: 1.0\n",
      "Epoch 44, CIFAR-10 Batch 1:  current loss: 0.000947943 and accuracy: 1.0\n",
      "Epoch 44, CIFAR-10 Batch 2:  current loss: 0.00108323 and accuracy: 1.0\n",
      "Epoch 44, CIFAR-10 Batch 3:  current loss: 0.00341818 and accuracy: 1.0\n",
      "Epoch 44, CIFAR-10 Batch 4:  current loss: 0.000702372 and accuracy: 1.0\n",
      "Epoch 44, CIFAR-10 Batch 5:  current loss: 0.00160973 and accuracy: 1.0\n",
      "Epoch 45, CIFAR-10 Batch 1:  current loss: 0.0139751 and accuracy: 1.0\n",
      "Epoch 45, CIFAR-10 Batch 2:  current loss: 0.00615496 and accuracy: 1.0\n",
      "Epoch 45, CIFAR-10 Batch 3:  current loss: 0.00150124 and accuracy: 1.0\n",
      "Epoch 45, CIFAR-10 Batch 4:  current loss: 0.0165912 and accuracy: 1.0\n",
      "Epoch 45, CIFAR-10 Batch 5:  current loss: 0.00163591 and accuracy: 1.0\n",
      "Epoch 46, CIFAR-10 Batch 1:  current loss: 0.00145524 and accuracy: 1.0\n",
      "Epoch 46, CIFAR-10 Batch 2:  current loss: 0.00528888 and accuracy: 1.0\n",
      "Epoch 46, CIFAR-10 Batch 3:  current loss: 0.000975421 and accuracy: 1.0\n",
      "Epoch 46, CIFAR-10 Batch 4:  current loss: 0.0012382 and accuracy: 1.0\n"
     ]
    },
    {
     "name": "stdout",
     "output_type": "stream",
     "text": [
      "Epoch 46, CIFAR-10 Batch 5:  current loss: 0.00059016 and accuracy: 1.0\n",
      "Epoch 47, CIFAR-10 Batch 1:  current loss: 0.000257555 and accuracy: 1.0\n",
      "Epoch 47, CIFAR-10 Batch 2:  current loss: 0.00560254 and accuracy: 1.0\n",
      "Epoch 47, CIFAR-10 Batch 3:  current loss: 0.00331051 and accuracy: 1.0\n",
      "Epoch 47, CIFAR-10 Batch 4:  current loss: 0.00144167 and accuracy: 1.0\n",
      "Epoch 47, CIFAR-10 Batch 5:  current loss: 0.00241363 and accuracy: 1.0\n",
      "Epoch 48, CIFAR-10 Batch 1:  current loss: 0.00350517 and accuracy: 1.0\n",
      "Epoch 48, CIFAR-10 Batch 2:  current loss: 0.00266677 and accuracy: 1.0\n",
      "Epoch 48, CIFAR-10 Batch 3:  current loss: 0.00221579 and accuracy: 1.0\n",
      "Epoch 48, CIFAR-10 Batch 4:  current loss: 0.00164869 and accuracy: 1.0\n",
      "Epoch 48, CIFAR-10 Batch 5:  current loss: 0.00474025 and accuracy: 1.0\n",
      "Epoch 49, CIFAR-10 Batch 1:  current loss: 0.000151151 and accuracy: 1.0\n",
      "Epoch 49, CIFAR-10 Batch 2:  current loss: 0.00127286 and accuracy: 1.0\n",
      "Epoch 49, CIFAR-10 Batch 3:  current loss: 0.00331967 and accuracy: 1.0\n",
      "Epoch 49, CIFAR-10 Batch 4:  current loss: 0.000619353 and accuracy: 1.0\n",
      "Epoch 49, CIFAR-10 Batch 5:  current loss: 0.0060067 and accuracy: 1.0\n",
      "Epoch 50, CIFAR-10 Batch 1:  current loss: 0.00445427 and accuracy: 1.0\n",
      "Epoch 50, CIFAR-10 Batch 2:  current loss: 0.000920077 and accuracy: 1.0\n",
      "Epoch 50, CIFAR-10 Batch 3:  current loss: 0.00206174 and accuracy: 1.0\n",
      "Epoch 50, CIFAR-10 Batch 4:  current loss: 0.00164254 and accuracy: 1.0\n",
      "Epoch 50, CIFAR-10 Batch 5:  current loss: 0.00849703 and accuracy: 1.0\n",
      "Epoch 51, CIFAR-10 Batch 1:  current loss: 0.00350837 and accuracy: 1.0\n",
      "Epoch 51, CIFAR-10 Batch 2:  current loss: 0.00134606 and accuracy: 1.0\n",
      "Epoch 51, CIFAR-10 Batch 3:  current loss: 0.000386393 and accuracy: 1.0\n",
      "Epoch 51, CIFAR-10 Batch 4:  current loss: 0.000574304 and accuracy: 1.0\n",
      "Epoch 51, CIFAR-10 Batch 5:  current loss: 0.00228038 and accuracy: 1.0\n",
      "Epoch 52, CIFAR-10 Batch 1:  current loss: 0.00164974 and accuracy: 1.0\n",
      "Epoch 52, CIFAR-10 Batch 2:  current loss: 0.00263235 and accuracy: 1.0\n",
      "Epoch 52, CIFAR-10 Batch 3:  current loss: 0.00970542 and accuracy: 1.0\n",
      "Epoch 52, CIFAR-10 Batch 4:  current loss: 0.000753539 and accuracy: 1.0\n",
      "Epoch 52, CIFAR-10 Batch 5:  current loss: 0.000619789 and accuracy: 1.0\n",
      "Epoch 53, CIFAR-10 Batch 1:  current loss: 0.00356636 and accuracy: 1.0\n",
      "Epoch 53, CIFAR-10 Batch 2:  current loss: 0.0371725 and accuracy: 0.975\n",
      "Epoch 53, CIFAR-10 Batch 3:  current loss: 0.00298071 and accuracy: 1.0\n",
      "Epoch 53, CIFAR-10 Batch 4:  current loss: 0.00372318 and accuracy: 1.0\n",
      "Epoch 53, CIFAR-10 Batch 5:  current loss: 0.000824243 and accuracy: 1.0\n",
      "Epoch 54, CIFAR-10 Batch 1:  current loss: 0.000296711 and accuracy: 1.0\n",
      "Epoch 54, CIFAR-10 Batch 2:  current loss: 0.00357892 and accuracy: 1.0\n",
      "Epoch 54, CIFAR-10 Batch 3:  current loss: 0.00112166 and accuracy: 1.0\n",
      "Epoch 54, CIFAR-10 Batch 4:  current loss: 0.00187812 and accuracy: 1.0\n",
      "Epoch 54, CIFAR-10 Batch 5:  current loss: 0.000239382 and accuracy: 1.0\n",
      "Epoch 55, CIFAR-10 Batch 1:  current loss: 0.000259857 and accuracy: 1.0\n",
      "Epoch 55, CIFAR-10 Batch 2:  current loss: 0.00232339 and accuracy: 1.0\n",
      "Epoch 55, CIFAR-10 Batch 3:  current loss: 0.000857643 and accuracy: 1.0\n",
      "Epoch 55, CIFAR-10 Batch 4:  current loss: 0.000728466 and accuracy: 1.0\n",
      "Epoch 55, CIFAR-10 Batch 5:  current loss: 0.00394026 and accuracy: 1.0\n",
      "Epoch 56, CIFAR-10 Batch 1:  current loss: 0.00654953 and accuracy: 1.0\n",
      "Epoch 56, CIFAR-10 Batch 2:  current loss: 0.000748909 and accuracy: 1.0\n",
      "Epoch 56, CIFAR-10 Batch 3:  current loss: 0.000185715 and accuracy: 1.0\n",
      "Epoch 56, CIFAR-10 Batch 4:  current loss: 0.00373167 and accuracy: 1.0\n",
      "Epoch 56, CIFAR-10 Batch 5:  current loss: 0.000380412 and accuracy: 1.0\n",
      "Epoch 57, CIFAR-10 Batch 1:  current loss: 0.00939914 and accuracy: 1.0\n",
      "Epoch 57, CIFAR-10 Batch 2:  current loss: 0.00248001 and accuracy: 1.0\n",
      "Epoch 57, CIFAR-10 Batch 3:  current loss: 0.00103814 and accuracy: 1.0\n",
      "Epoch 57, CIFAR-10 Batch 4:  current loss: 0.005586 and accuracy: 1.0\n",
      "Epoch 57, CIFAR-10 Batch 5:  current loss: 0.000457697 and accuracy: 1.0\n",
      "Epoch 58, CIFAR-10 Batch 1:  current loss: 0.00903667 and accuracy: 1.0\n",
      "Epoch 58, CIFAR-10 Batch 2:  current loss: 0.0011782 and accuracy: 1.0\n",
      "Epoch 58, CIFAR-10 Batch 3:  current loss: 0.000857345 and accuracy: 1.0\n",
      "Epoch 58, CIFAR-10 Batch 4:  current loss: 0.00209638 and accuracy: 1.0\n",
      "Epoch 58, CIFAR-10 Batch 5:  current loss: 0.000113258 and accuracy: 1.0\n",
      "Epoch 59, CIFAR-10 Batch 1:  current loss: 0.00114518 and accuracy: 1.0\n",
      "Epoch 59, CIFAR-10 Batch 2:  current loss: 0.000322711 and accuracy: 1.0\n",
      "Epoch 59, CIFAR-10 Batch 3:  current loss: 0.000884133 and accuracy: 1.0\n",
      "Epoch 59, CIFAR-10 Batch 4:  current loss: 0.0066049 and accuracy: 1.0\n",
      "Epoch 59, CIFAR-10 Batch 5:  current loss: 0.00354216 and accuracy: 1.0\n",
      "Epoch 60, CIFAR-10 Batch 1:  current loss: 0.00562396 and accuracy: 1.0\n",
      "Epoch 60, CIFAR-10 Batch 2:  current loss: 0.00247734 and accuracy: 1.0\n",
      "Epoch 60, CIFAR-10 Batch 3:  current loss: 0.00157526 and accuracy: 1.0\n",
      "Epoch 60, CIFAR-10 Batch 4:  current loss: 0.000361887 and accuracy: 1.0\n",
      "Epoch 60, CIFAR-10 Batch 5:  current loss: 0.000465072 and accuracy: 1.0\n",
      "Epoch 61, CIFAR-10 Batch 1:  current loss: 0.00213442 and accuracy: 1.0\n",
      "Epoch 61, CIFAR-10 Batch 2:  current loss: 0.000398181 and accuracy: 1.0\n",
      "Epoch 61, CIFAR-10 Batch 3:  current loss: 0.00222911 and accuracy: 1.0\n",
      "Epoch 61, CIFAR-10 Batch 4:  current loss: 0.00107788 and accuracy: 1.0\n",
      "Epoch 61, CIFAR-10 Batch 5:  current loss: 0.000996484 and accuracy: 1.0\n",
      "Epoch 62, CIFAR-10 Batch 1:  current loss: 0.000733233 and accuracy: 1.0\n",
      "Epoch 62, CIFAR-10 Batch 2:  current loss: 0.0135067 and accuracy: 1.0\n",
      "Epoch 62, CIFAR-10 Batch 3:  current loss: 0.000498189 and accuracy: 1.0\n",
      "Epoch 62, CIFAR-10 Batch 4:  current loss: 0.00336546 and accuracy: 1.0\n",
      "Epoch 62, CIFAR-10 Batch 5:  current loss: 0.00194468 and accuracy: 1.0\n",
      "Epoch 63, CIFAR-10 Batch 1:  current loss: 0.000594726 and accuracy: 1.0\n",
      "Epoch 63, CIFAR-10 Batch 2:  current loss: 0.00134346 and accuracy: 1.0\n",
      "Epoch 63, CIFAR-10 Batch 3:  current loss: 0.00139886 and accuracy: 1.0\n",
      "Epoch 63, CIFAR-10 Batch 4:  current loss: 0.000332645 and accuracy: 1.0\n",
      "Epoch 63, CIFAR-10 Batch 5:  current loss: 0.00354615 and accuracy: 1.0\n",
      "Epoch 64, CIFAR-10 Batch 1:  current loss: 0.000230375 and accuracy: 1.0\n",
      "Epoch 64, CIFAR-10 Batch 2:  current loss: 0.00114879 and accuracy: 1.0\n",
      "Epoch 64, CIFAR-10 Batch 3:  current loss: 0.00265126 and accuracy: 1.0\n",
      "Epoch 64, CIFAR-10 Batch 4:  current loss: 0.0157321 and accuracy: 1.0\n",
      "Epoch 64, CIFAR-10 Batch 5:  current loss: 0.00205703 and accuracy: 1.0\n",
      "Epoch 65, CIFAR-10 Batch 1:  current loss: 0.00011987 and accuracy: 1.0\n",
      "Epoch 65, CIFAR-10 Batch 2:  current loss: 0.00191322 and accuracy: 1.0\n",
      "Epoch 65, CIFAR-10 Batch 3:  current loss: 0.00162808 and accuracy: 1.0\n",
      "Epoch 65, CIFAR-10 Batch 4:  current loss: 0.00100943 and accuracy: 1.0\n",
      "Epoch 65, CIFAR-10 Batch 5:  current loss: 0.00888448 and accuracy: 1.0\n",
      "Epoch 66, CIFAR-10 Batch 1:  current loss: 0.00317147 and accuracy: 1.0\n",
      "Epoch 66, CIFAR-10 Batch 2:  current loss: 0.00488799 and accuracy: 1.0\n",
      "Epoch 66, CIFAR-10 Batch 3:  current loss: 0.00607158 and accuracy: 1.0\n",
      "Epoch 66, CIFAR-10 Batch 4:  current loss: 0.00143687 and accuracy: 1.0\n",
      "Epoch 66, CIFAR-10 Batch 5:  current loss: 0.00154941 and accuracy: 1.0\n"
     ]
    }
   ],
   "source": [
    "\"\"\"\n",
    "DON'T MODIFY ANYTHING IN THIS CELL\n",
    "\"\"\"\n",
    "save_model_path = './image_classification'\n",
    "\n",
    "print('Training...')\n",
    "with tf.Session() as sess:\n",
    "    # Initializing the variables\n",
    "    sess.run(tf.global_variables_initializer())\n",
    "    \n",
    "    # Training cycle\n",
    "    for epoch in range(epochs):\n",
    "        # Loop over all batches\n",
    "        n_batches = 5\n",
    "        for batch_i in range(1, n_batches + 1):\n",
    "            for batch_features, batch_labels in helper.load_preprocess_training_batch(batch_i, batch_size):\n",
    "                train_neural_network(sess, optimizer, keep_probability, batch_features, batch_labels)\n",
    "            print('Epoch {:>2}, CIFAR-10 Batch {}:  '.format(epoch + 1, batch_i), end='')\n",
    "            print_stats(sess, batch_features, batch_labels, cost, accuracy)\n",
    "            \n",
    "    # Save Model\n",
    "    saver = tf.train.Saver()\n",
    "    save_path = saver.save(sess, save_model_path)"
   ]
  },
  {
   "cell_type": "markdown",
   "metadata": {},
   "source": [
    "# Checkpoint\n",
    "The model has been saved to disk.\n",
    "## Test Model\n",
    "Test your model against the test dataset.  This will be your final accuracy. You should have an accuracy greater than 50%. If you don't, keep tweaking the model architecture and parameters."
   ]
  },
  {
   "cell_type": "code",
   "execution_count": 14,
   "metadata": {},
   "outputs": [
    {
     "name": "stdout",
     "output_type": "stream",
     "text": [
      "INFO:tensorflow:Restoring parameters from ./image_classification\n",
      "Testing Accuracy: 0.7126791401273885\n",
      "\n"
     ]
    },
    {
     "data": {
      "image/png": "[encoded data removed]",
      "text/plain": [
       "<matplotlib.figure.Figure at 0x7fb4e4059a58>"
      ]
     },
     "metadata": {
      "image/png": {
       "height": 319,
       "width": 352
      }
     },
     "output_type": "display_data"
    }
   ],
   "source": [
    "\"\"\"\n",
    "DON'T MODIFY ANYTHING IN THIS CELL\n",
    "\"\"\"\n",
    "%matplotlib inline\n",
    "%config InlineBackend.figure_format = 'retina'\n",
    "\n",
    "import tensorflow as tf\n",
    "import pickle\n",
    "import helper\n",
    "import random\n",
    "\n",
    "# Set batch size if not already set\n",
    "try:\n",
    "    if batch_size:\n",
    "        pass\n",
    "except NameError:\n",
    "    batch_size = 64\n",
    "\n",
    "save_model_path = './image_classification'\n",
    "n_samples = 4\n",
    "top_n_predictions = 3\n",
    "\n",
    "def test_model():\n",
    "    \"\"\"\n",
    "    Test the saved model against the test dataset\n",
    "    \"\"\"\n",
    "\n",
    "    test_features, test_labels = pickle.load(open('preprocess_training.p', mode='rb'))\n",
    "    loaded_graph = tf.Graph()\n",
    "\n",
    "    with tf.Session(graph=loaded_graph) as sess:\n",
    "        # Load model\n",
    "        loader = tf.train.import_meta_graph(save_model_path + '.meta')\n",
    "        loader.restore(sess, save_model_path)\n",
    "\n",
    "        # Get Tensors from loaded model\n",
    "        loaded_x = loaded_graph.get_tensor_by_name('x:0')\n",
    "        loaded_y = loaded_graph.get_tensor_by_name('y:0')\n",
    "        loaded_keep_prob = loaded_graph.get_tensor_by_name('keep_prob:0')\n",
    "        loaded_logits = loaded_graph.get_tensor_by_name('logits:0')\n",
    "        loaded_acc = loaded_graph.get_tensor_by_name('accuracy:0')\n",
    "        \n",
    "        # Get accuracy in batches for memory limitations\n",
    "        test_batch_acc_total = 0\n",
    "        test_batch_count = 0\n",
    "        \n",
    "        for train_feature_batch, train_label_batch in helper.batch_features_labels(test_features, test_labels, batch_size):\n",
    "            test_batch_acc_total += sess.run(\n",
    "                loaded_acc,\n",
    "                feed_dict={loaded_x: train_feature_batch, loaded_y: train_label_batch, loaded_keep_prob: 1.0})\n",
    "            test_batch_count += 1\n",
    "\n",
    "        print('Testing Accuracy: {}\\n'.format(test_batch_acc_total/test_batch_count))\n",
    "\n",
    "        # Print Random Samples\n",
    "        random_test_features, random_test_labels = tuple(zip(*random.sample(list(zip(test_features, test_labels)), n_samples)))\n",
    "        random_test_predictions = sess.run(\n",
    "            tf.nn.top_k(tf.nn.softmax(loaded_logits), top_n_predictions),\n",
    "            feed_dict={loaded_x: random_test_features, loaded_y: random_test_labels, loaded_keep_prob: 1.0})\n",
    "        helper.display_image_predictions(random_test_features, random_test_labels, random_test_predictions)\n",
    "\n",
    "\n",
    "test_model()"
   ]
  },
  {
   "cell_type": "markdown",
   "metadata": {},
   "source": [
    "## Why 50-80% Accuracy?\n",
    "You might be wondering why you can't get an accuracy any higher. First things first, 50% isn't bad for a simple CNN.  Pure guessing would get you 10% accuracy. That's because there are many more techniques that can be applied to your model and we recemmond that once you are done with this project, you explore!\n",
    "\n",
    "## Submitting This Project\n",
    "When submitting this project, make sure to run all the cells before saving the notebook.  Save the notebook file as \"image_classification.ipynb\" and save it as a HTML file under \"File\" -> \"Download as\".  Include the \"helper.py\" and \"problem_unittests.py\" files in your submission."
   ]
  }
 ],
 "metadata": {
  "kernelspec": {
   "display_name": "Python 3",
   "language": "python",
   "name": "python3"
  },
  "language_info": {
   "codemirror_mode": {
    "name": "ipython",
    "version": 3
   },
   "file_extension": ".py",
   "mimetype": "text/x-python",
   "name": "python",
   "nbconvert_exporter": "python",
   "pygments_lexer": "ipython3",
   "version": "3.6.2"
  }
 },
 "nbformat": 4,
 "nbformat_minor": 1
}
